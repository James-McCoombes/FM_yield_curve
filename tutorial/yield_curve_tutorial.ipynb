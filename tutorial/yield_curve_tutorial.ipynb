{
 "cells": [
  {
   "cell_type": "markdown",
   "id": "f8e68ff7",
   "metadata": {},
   "source": [
    "---\n",
    "# Tutorial Task: Create a Forward Bank Bill Class #\n",
    "---\n",
    "In this tutorial, you will use the Bank Bill and Bond classes to create a Forward Bank Bill class.\n",
    "\n",
    "### Step 1:\n",
    "\n",
    "Create some bank bill and bond instruments.\n",
    "\n",
    "### Step 2:\n",
    "\n",
    "Create a yield curve using these instruments.\n",
    "\n",
    "### Step 3:\n",
    "\n",
    "Design a new Forward Bank Bill class which inherits from the Bank Bill class and uses the yield curve to give an arbitrage-free yield.\n",
    "\n",
    "---\n",
    "\n",
    "## Refresher on Classes\n",
    "\n",
    "### What is a Class\n",
    "In programming, a class is a way to organize and group data and functions together into a single unit by describing:\n",
    "\n",
    "- What information the thing should have (its properties)\n",
    "\n",
    "- What actions the thing should be able to do (its behavior)\n",
    "\n",
    "The information inside a class is called attributes , and the actions are called methods (which are just functions inside the class).\n",
    "\n",
    "Once you define a class, you can create multiple objects from it.\n",
    "Each object will have its own copy of the attributes and will be able to use the methods.\n",
    "\n",
    "This process of making an object from a class is called instantiation, and the object is called an instance of the class.\n",
    "\n",
    "### Inheritance\n",
    "Inheritance is when a new class automatically gets the attributes and methods from an existing class.\n",
    "\n",
    "The class you start from is called the parent class (or superclass).\n",
    "The new class you make is called the child class (or subclass).\n",
    "\n",
    "The child class inherits everything from the parent class and can:\n",
    "\n",
    "- Use everything the parent already has\n",
    "\n",
    "- Add new things of its own\n",
    "\n",
    "- Change (override) things if needed\n",
    "\n",
    "\n",
    "---"
   ]
  },
  {
   "cell_type": "markdown",
   "id": "7d1c4eb1",
   "metadata": {},
   "source": [
    "### Step 0:\n",
    "\n",
    "Import pre-existing classes"
   ]
  },
  {
   "cell_type": "code",
   "execution_count": 8,
   "id": "a29772d4",
   "metadata": {},
   "outputs": [],
   "source": [
    "import sys\n",
    "sys.path.append('..')  # Add the parent directory to the system path\n",
    "from instrument_classes import Bank_bill, Bond, Portfolio\n",
    "from curve_classes_and_functions import ZeroCurve, YieldCurve\n",
    "\n"
   ]
  },
  {
   "cell_type": "markdown",
   "id": "d0bfc6af",
   "metadata": {},
   "source": [
    "---\n",
    "\n",
    "### Step 1:\n",
    "\n",
    "Let's define a few bank bills and bonds."
   ]
  },
  {
   "cell_type": "code",
   "execution_count": null,
   "id": "2e44d198",
   "metadata": {},
   "outputs": [],
   "source": [
    "# we are going to insatiate some classes of bank bills\n",
    "bill1 = Bank_bill()\n",
    "# changing ytm\n",
    "bill1.set_ytm(0.06)\n",
    "bill1.set_cash_flows()\n",
    "bill1.get_price()\n",
    "\n",
    "\n",
    "# doing some bonds now, jsuty creatin classes represeitng different financial instruments\n",
    "bond1 = Bond(face_value=1000, coupon=0.05, maturity=5, frequency=2)\n",
    "bond1.set_ytm(0.06)\n",
    "bond1.set_cash_flows()\n",
    "\n",
    "\n",
    "\n",
    "\n"
   ]
  },
  {
   "cell_type": "code",
   "execution_count": 28,
   "id": "f19cb9e0",
   "metadata": {},
   "outputs": [],
   "source": [
    "# code from codeshare \n",
    "bill1 = Bank_bill()\n",
    "bill1.set_ytm(0.06)\n",
    "bill1.set_cash_flows()\n",
    "\n",
    "bill2 = Bank_bill(maturity=0.5)\n",
    "bill2.set_ytm(0.065)\n",
    "bill2.set_cash_flows()\n",
    "\n",
    "bond1 = Bond(face_value=100,maturity=1,coupon=0.05,frequency=2)\n",
    "bond1.set_ytm(0.07)\n",
    "bond1.set_cash_flows()\n",
    "\n",
    "bond2 = Bond(face_value=100,maturity=2, coupon=0.06, frequency=1)\n",
    "bond2.set_ytm(0.075)\n",
    "bond2.set_cash_flows()\n"
   ]
  },
  {
   "cell_type": "markdown",
   "id": "e29d39c3",
   "metadata": {},
   "source": [
    "---\n",
    "\n",
    "### Step 2:\n",
    "\n",
    "Now we can use the Portfolio class to aggregate the instruments that we have created. Then we pass the portfolio to the YieldCurve class to bootstrap a yield curve."
   ]
  },
  {
   "cell_type": "code",
   "execution_count": 40,
   "id": "3ae0c648",
   "metadata": {},
   "outputs": [
    {
     "name": "stdout",
     "output_type": "stream",
     "text": [
      "PV of all the cashflows except maturity is:  2.4213075060532687\n",
      "The bond price is:  98.10030572475438\n",
      "The last cashflow is:  102.5\n",
      "PV of all the cashflows except maturity is:  5.600721846948358\n",
      "The bond price is:  97.30665224445646\n",
      "The last cashflow is:  106.0\n"
     ]
    },
    {
     "data": {
      "text/plain": [
       "-5.972513564315916"
      ]
     },
     "execution_count": 40,
     "metadata": {},
     "output_type": "execute_result"
    }
   ],
   "source": [
    "# creating a portfolio\n",
    "\n",
    "portfolio =  Portfolio()\n",
    "portfolio.add_bank_bill(bill1)\n",
    "portfolio.add_bank_bill(bill2)\n",
    "portfolio.add_bond(bond1)\n",
    "portfolio.add_bond(bond2)\n",
    "portfolio.set_cash_flows()\n",
    "\n",
    "# created portfolio, now time to define portfolio\n",
    "portfolio.get_bonds() \n",
    "#see we have 2 bonds\n",
    "#now getting the bank bills\n",
    "\n",
    "portfolio.get_bank_bills() \n",
    "\n",
    "\n",
    "# deriving the zero curve\n",
    "yc= YieldCurve()\n",
    "yc.set_constituent_portfolio(portfolio) # amonts being paid and maturities\n",
    "yc.bootstrap()\n",
    "\n",
    "yc.get_zero_curve() # this is the zero curve\n",
    "\n",
    "# created a varible yc, called .get_zero_curve (which is inhereted form the class ZeroCurve)\n",
    "# # and then we can call the method get_zero_curve\n",
    "\n",
    "yc.npv(portfolio)"
   ]
  },
  {
   "cell_type": "markdown",
   "id": "db1c8205",
   "metadata": {},
   "source": [
    "---\n",
    "\n",
    "### Step 3:\n",
    "\n",
    "Now let's try creating our own class. This will be a Forward Bank Bill class, and will have the ability to price a forward bank bill."
   ]
  },
  {
   "cell_type": "code",
   "execution_count": 43,
   "id": "95e95e4d",
   "metadata": {},
   "outputs": [],
   "source": [
    "# creatoing own class inherenting original bank bill fucntionality\n",
    "\n",
    "class Fowardbankbill(Bank_bill):\n",
    "    def __init__(self, start, maturity, face_value):\n",
    "        super().__init__(face_value, face_value, ytm=0.00, price=0.00)\n",
    "        self.start = start\n",
    "        self.maturity = maturity\n",
    "        self.term = maturity - start\n",
    "        self.price = None\n",
    "        self.ytm = None\n",
    "# determinng cash flows\n",
    "    def set_cash_flows(self):\n",
    "        self.add_cash_flow(self.start, self.price)\n",
    "        self.add_cash_flow(self.maturity, self.face_value)\n",
    "\n",
    "def set_fair_value(self, yield_curve):\n",
    "    df1 = yield_curve.get_discount_factor(self.start)\n",
    "    df2 = yield_curve.get_discount_factor(self.maturity)\n",
    "\n",
    "    self.price = (self.face_value) / (df2 - df1)\n",
    "    self.ytm = (self.face_value / self.price) / (self.face_value * self.term)\n",
    "\n",
    "def get_price(self):\n",
    "    return self.price\n",
    "def get_ytm(self):\n",
    "    return self.ytm\n"
   ]
  },
  {
   "cell_type": "code",
   "execution_count": null,
   "id": "ea5b1c1c",
   "metadata": {},
   "outputs": [
    {
     "ename": "AttributeError",
     "evalue": "'Fowardbankbill' object has no attribute 'set_fair_value'",
     "output_type": "error",
     "traceback": [
      "\u001b[31m---------------------------------------------------------------------------\u001b[39m",
      "\u001b[31mAttributeError\u001b[39m                            Traceback (most recent call last)",
      "\u001b[36mCell\u001b[39m\u001b[36m \u001b[39m\u001b[32mIn[49]\u001b[39m\u001b[32m, line 2\u001b[39m\n\u001b[32m      1\u001b[39m fwd =  Fowardbankbill(start=\u001b[32m0.5\u001b[39m, maturity=\u001b[32m0.75\u001b[39m, face_value=\u001b[32m1000\u001b[39m)\n\u001b[32m----> \u001b[39m\u001b[32m2\u001b[39m fwd.set_fair_value(yc)\n\u001b[32m      3\u001b[39m fwd.set_cash_flows()\n",
      "\u001b[31mAttributeError\u001b[39m: 'Fowardbankbill' object has no attribute 'set_fair_value'"
     ]
    }
   ],
   "source": [
    "fwd =  Fowardbankbill(start=0.5, maturity=0.75, face_value=1000)\n",
    "\n",
    "fwd.set_cash_flows()"
   ]
  },
  {
   "cell_type": "code",
   "execution_count": 51,
   "id": "3177fd1b",
   "metadata": {},
   "outputs": [
    {
     "name": "stdout",
     "output_type": "stream",
     "text": [
      "PV of all the cashflows except maturity is:  2.4213075060532687\n",
      "The bond price is:  98.10030572475438\n",
      "The last cashflow is:  102.5\n",
      "PV of all the cashflows except maturity is:  5.600721846948358\n",
      "The bond price is:  97.30665224445646\n",
      "The last cashflow is:  106.0\n"
     ]
    }
   ],
   "source": [
    "#All codeeshare work \n",
    "bill1 = Bank_bill()\n",
    "bill1.set_ytm(0.06)\n",
    "bill1.set_cash_flows()\n",
    "\n",
    "bill2 = Bank_bill(maturity=0.5)\n",
    "bill2.set_ytm(0.065)\n",
    "bill2.set_cash_flows()\n",
    "\n",
    "bond1 = Bond(face_value=100,maturity=1,coupon=0.05,frequency=2)\n",
    "bond1.set_ytm(0.07)\n",
    "bond1.set_cash_flows()\n",
    "\n",
    "bond2 = Bond(face_value=100,maturity=2, coupon=0.06, frequency=1)\n",
    "bond2.set_ytm(0.075)\n",
    "bond2.set_cash_flows()\n",
    "\n",
    "# Step 2\n",
    "portfolio = Portfolio()\n",
    "portfolio.add_bank_bill(bill1)\n",
    "portfolio.add_bank_bill(bill2)\n",
    "portfolio.add_bond(bond1)\n",
    "portfolio.add_bond(bond2)\n",
    "portfolio.set_cash_flows()\n",
    "\n",
    "portfolio.get_bonds()\n",
    "\n",
    "portfolio.get_bank_bills()\n",
    "\n",
    "yc = YieldCurve()\n",
    "yc.set_constituent_portfolio(portfolio)\n",
    "yc.bootstrap()\n",
    "\n",
    "yc.get_zero_curve()\n",
    "\n",
    "yc.npv(portfolio)\n",
    "#  Task 3\n",
    "\n",
    "class ForwardBankBill(Bank_bill):\n",
    "    \"\"\"\n",
    "    Forward on a bank bill starting in T1 and maturing at T2\n",
    "    \"\"\"\n",
    "\n",
    "    def __init__(self, start, maturity, face_value=100):\n",
    "        super().__init__(face_value=face_value,ytm=0.0, price=0.0)\n",
    "        self.start = start\n",
    "        self.maturity = maturity\n",
    "        self.term = maturity - start\n",
    "        self.price = None\n",
    "        self.ytm = None\n",
    "\n",
    "    # 1. Determining cash flows\n",
    "    def set_cash_flows(self):\n",
    "        self.add_cash_flow(self.start, -self.price)\n",
    "        self.add_cash_flow(self.maturity, self.face_value)\n",
    "\n",
    "    # 2. Determine the price and ytm\n",
    "    def set_fair_yield(self, yield_curve):\n",
    "        df1 = yield_curve.get_discount_factor(self.start)\n",
    "        df2 = yield_curve.get_discount_factor(self.maturity)\n",
    "\n",
    "        self.price = self.face_value * (df2/df1)\n",
    "        self.ytm = (self.face_value - self.price) / (self.face_value * self.term)\n",
    "\n",
    "    def get_price(self):\n",
    "        return self.price\n",
    "    \n",
    "    def get_yield(self):\n",
    "        return self.ytm\n"
   ]
  }
 ],
 "metadata": {
  "kernelspec": {
   "display_name": "Python 3",
   "language": "python",
   "name": "python3"
  },
  "language_info": {
   "codemirror_mode": {
    "name": "ipython",
    "version": 3
   },
   "file_extension": ".py",
   "mimetype": "text/x-python",
   "name": "python",
   "nbconvert_exporter": "python",
   "pygments_lexer": "ipython3",
   "version": "3.11.11"
  }
 },
 "nbformat": 4,
 "nbformat_minor": 5
}
