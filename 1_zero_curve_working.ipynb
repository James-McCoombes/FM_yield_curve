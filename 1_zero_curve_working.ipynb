{
 "cells": [
  {
   "cell_type": "markdown",
   "metadata": {},
   "source": [
    "# Zero Curve Construction and Analysis\n",
    "\n",
    "## Overview\n",
    "This notebook demonstrates the construction and manipulation of zero curves, which are fundamental tools in fixed income mathematics and financial engineering. The notebook covers:\n",
    "\n",
    "1. Implementation of exponential interpolation for yield curves\n",
    "2. Working with the ZeroCurve class to:\n",
    "   - Add zero rates to the curve\n",
    "   - Calculate discount factors\n",
    "   - Perform interpolation for missing maturities\n",
    "   - Transform curve data for analysis\n",
    "\n",
    "## Key Concepts\n",
    "- **Zero Rates**: Interest rates for zero-coupon bonds of different maturities\n",
    "- **Discount Factors**: Present values of 1 unit of currency paid at future dates\n",
    "- **Exponential Interpolation**: A method for estimating rates between known points on the curve\n",
    "- **Amount at Maturity (AtMat)**: Future value based on zero rates\n",
    "\n",
    "## Dependencies\n",
    "The notebook uses standard Python libraries for mathematical operations and data manipulation:\n",
    "- math: For basic mathematical operations\n",
    "- numpy: For numerical computations\n",
    "- pandas: For data manipulation and analysis\n",
    "- Custom yield_curve module: Contains ZeroCurve class implementation"
   ]
  },
  {
   "cell_type": "code",
   "execution_count": 1,
   "metadata": {},
   "outputs": [],
   "source": [
    "import math\n",
    "import numpy as np\n",
    "import importlib\n",
    "import pandas as pd"
   ]
  },
  {
   "cell_type": "markdown",
   "metadata": {},
   "source": [
    "# Working with the ZeroCurve Class\n",
    "\n",
    "The following section demonstrates the main functionality of the ZeroCurve class, which provides a complete toolkit for working with zero curves. We'll explore:\n",
    "\n",
    "1. Creating and populating a zero curve\n",
    "2. Calculating various measures (zero rates, discount factors, amounts at maturity)\n",
    "3. Interpolating values for non-standard maturities\n",
    "4. Presenting the curve data in different formats\n",
    "\n",
    "The ZeroCurve class manages internal consistency between different representations of the same curve (zero rates, discount factors, and amounts at maturity) and provides interpolation capabilities for missing points."
   ]
  },
  {
   "cell_type": "code",
   "execution_count": 8,
   "metadata": {},
   "outputs": [
    {
     "name": "stdout",
     "output_type": "stream",
     "text": [
      "2.5-year zero rate: 0.03100000000000001\n",
      "1-year discount factor: 0.9851119396030628\n",
      "2-year discount factor: 0.9512294245007139\n",
      "3-year discount factor: 0.9003245225862656\n",
      "4-year discount factor: 0.835270211411272\n",
      "Zero rate for 1.5 years: 0.02166666666666669\n",
      "Amount at Maturity for 1.5 years: 1.0330338931439726\n",
      "Discount factor for 1.5 years: 0.968022449831306\n",
      "Complete zero curve: ([1, 2, 3, 4], [0.9851119396030628, 0.9512294245007139, 0.9003245225862656, 0.835270211411272])\n",
      "\n",
      "Zero Curve DataFrame:\n",
      "          Discount Factor\n",
      "Maturity                 \n",
      "1.0              0.985112\n",
      "2.0              0.951229\n",
      "3.0              0.900325\n",
      "4.0              0.835270\n"
     ]
    },
    {
     "data": {
      "text/html": [
       "<div>\n",
       "<style scoped>\n",
       "    .dataframe tbody tr th:only-of-type {\n",
       "        vertical-align: middle;\n",
       "    }\n",
       "\n",
       "    .dataframe tbody tr th {\n",
       "        vertical-align: top;\n",
       "    }\n",
       "\n",
       "    .dataframe thead th {\n",
       "        text-align: right;\n",
       "    }\n",
       "</style>\n",
       "<table border=\"1\" class=\"dataframe\">\n",
       "  <thead>\n",
       "    <tr style=\"text-align: right;\">\n",
       "      <th></th>\n",
       "      <th>Discount Factor</th>\n",
       "    </tr>\n",
       "    <tr>\n",
       "      <th>Maturity</th>\n",
       "      <th></th>\n",
       "    </tr>\n",
       "  </thead>\n",
       "  <tbody>\n",
       "    <tr>\n",
       "      <th>1.0</th>\n",
       "      <td>0.985112</td>\n",
       "    </tr>\n",
       "    <tr>\n",
       "      <th>2.0</th>\n",
       "      <td>0.951229</td>\n",
       "    </tr>\n",
       "    <tr>\n",
       "      <th>3.0</th>\n",
       "      <td>0.900325</td>\n",
       "    </tr>\n",
       "    <tr>\n",
       "      <th>4.0</th>\n",
       "      <td>0.835270</td>\n",
       "    </tr>\n",
       "  </tbody>\n",
       "</table>\n",
       "</div>"
      ],
      "text/plain": [
       "          Discount Factor\n",
       "Maturity                 \n",
       "1.0              0.985112\n",
       "2.0              0.951229\n",
       "3.0              0.900325\n",
       "4.0              0.835270"
      ]
     },
     "execution_count": 8,
     "metadata": {},
     "output_type": "execute_result"
    }
   ],
   "source": [
    "import curve_classes_and_functions as zCurve\n",
    "importlib.reload(zCurve)\n",
    "\n",
    "# Create an instance of the ZeroCurve class\n",
    "# This initializes an empty curve ready to accept rate information\n",
    "zc = zCurve.ZeroCurve()\n",
    "\n",
    "# Add zero rates to the curve\n",
    "# These rates represent annual interest rates for zero-coupon bonds\n",
    "zc.add_zero_rate(1, 0.015)  # 1% for 1 year\n",
    "zc.add_zero_rate(2, 0.025)  # 2% for 2 years\n",
    "zc.add_zero_rate(3, 0.035)  # 3% for 3 years\n",
    "zc.add_zero_rate(4, 0.045)  # 4% for 4 years\n",
    "\n",
    "# Demonstrate retrieving zero rates\n",
    "print(\"2.5-year zero rate:\", zc.get_zero_rate(2.5))\n",
    "\n",
    "# Calculate and display discount factors\n",
    "# Discount factors represent the present value of 1 unit of currency\n",
    "print(\"1-year discount factor:\", zc.get_discount_factor(1))\n",
    "print(\"2-year discount factor:\", zc.get_discount_factor(2))\n",
    "print(\"3-year discount factor:\", zc.get_discount_factor(3))\n",
    "print(\"4-year discount factor:\", zc.get_discount_factor(4))\n",
    "\n",
    "# Demonstrate interpolation for a non-standard maturity\n",
    "maturity_lookup = 1.5\n",
    "print(f\"Zero rate for {maturity_lookup} years:\", zc.get_zero_rate(maturity_lookup))\n",
    "print(f\"Amount at Maturity for {maturity_lookup} years:\", zc.get_AtMat(maturity_lookup))\n",
    "print(f\"Discount factor for {maturity_lookup} years:\", zc.get_discount_factor(maturity_lookup))\n",
    "\n",
    "# Get the complete zero curve data\n",
    "print(\"Complete zero curve:\", zc.get_zero_curve())\n",
    "\n",
    "# Create a pandas DataFrame for better data visualization and analysis\n",
    "zcT = np.transpose(zc.get_zero_curve())\n",
    "zc_dataframe = pd.DataFrame(zcT, columns=['Maturity', 'Discount Factor'])\n",
    "zc_dataframe.set_index('Maturity', inplace=True)\n",
    "print(\"\\nZero Curve DataFrame:\")\n",
    "print(zc_dataframe)\n",
    "zc_dataframe\n"
   ]
  }
 ],
 "metadata": {
  "kernelspec": {
   "display_name": "Python 3",
   "language": "python",
   "name": "python3"
  },
  "language_info": {
   "codemirror_mode": {
    "name": "ipython",
    "version": 3
   },
   "file_extension": ".py",
   "mimetype": "text/x-python",
   "name": "python",
   "nbconvert_exporter": "python",
   "pygments_lexer": "ipython3",
   "version": "3.11.11"
  }
 },
 "nbformat": 4,
 "nbformat_minor": 2
}
